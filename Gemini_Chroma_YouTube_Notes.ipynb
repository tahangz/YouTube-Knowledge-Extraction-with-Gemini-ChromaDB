{
  "nbformat": 4,
  "nbformat_minor": 0,
  "metadata": {
    "colab": {
      "provenance": []
    },
    "kernelspec": {
      "name": "python3",
      "display_name": "Python 3"
    },
    "language_info": {
      "name": "python"
    }
  },
  "cells": [
    {
      "cell_type": "markdown",
      "source": [
        "This project involves extracting transcripts from YouTube videos, generating key notes from the transcripts using Google's Gemini AI, and storing these notes in a ChromaDB vector database for efficient retrieval and querying. The workflow includes installing necessary libraries, setting up API keys, processing video transcripts, generating summaries, and performing searches on the stored notes. The project is useful for creating a searchable knowledge base from video content."
      ],
      "metadata": {
        "id": "KEKX_WZX9QTZ"
      }
    },
    {
      "cell_type": "code",
      "execution_count": null,
      "metadata": {
        "collapsed": true,
        "colab": {
          "base_uri": "https://localhost:8080/"
        },
        "id": "eUQsRl95m7_A",
        "outputId": "49697bfc-2d33-47eb-ecb6-abe02c37af68"
      },
      "outputs": [
        {
          "output_type": "stream",
          "name": "stdout",
          "text": [
            "Collecting youtube-transcript-api\n",
            "  Downloading youtube_transcript_api-1.1.0-py3-none-any.whl.metadata (23 kB)\n",
            "Requirement already satisfied: google-generativeai in /usr/local/lib/python3.11/dist-packages (0.8.5)\n",
            "Collecting chromadb\n",
            "  Downloading chromadb-1.0.13-cp39-abi3-manylinux_2_17_x86_64.manylinux2014_x86_64.whl.metadata (7.0 kB)\n",
            "Requirement already satisfied: defusedxml<0.8.0,>=0.7.1 in /usr/local/lib/python3.11/dist-packages (from youtube-transcript-api) (0.7.1)\n",
            "Requirement already satisfied: requests in /usr/local/lib/python3.11/dist-packages (from youtube-transcript-api) (2.32.3)\n",
            "Requirement already satisfied: google-ai-generativelanguage==0.6.15 in /usr/local/lib/python3.11/dist-packages (from google-generativeai) (0.6.15)\n",
            "Requirement already satisfied: google-api-core in /usr/local/lib/python3.11/dist-packages (from google-generativeai) (2.25.1)\n",
            "Requirement already satisfied: google-api-python-client in /usr/local/lib/python3.11/dist-packages (from google-generativeai) (2.173.0)\n",
            "Requirement already satisfied: google-auth>=2.15.0 in /usr/local/lib/python3.11/dist-packages (from google-generativeai) (2.38.0)\n",
            "Requirement already satisfied: protobuf in /usr/local/lib/python3.11/dist-packages (from google-generativeai) (5.29.5)\n",
            "Requirement already satisfied: pydantic in /usr/local/lib/python3.11/dist-packages (from google-generativeai) (2.11.7)\n",
            "Requirement already satisfied: tqdm in /usr/local/lib/python3.11/dist-packages (from google-generativeai) (4.67.1)\n",
            "Requirement already satisfied: typing-extensions in /usr/local/lib/python3.11/dist-packages (from google-generativeai) (4.14.0)\n",
            "Requirement already satisfied: proto-plus<2.0.0dev,>=1.22.3 in /usr/local/lib/python3.11/dist-packages (from google-ai-generativelanguage==0.6.15->google-generativeai) (1.26.1)\n",
            "Requirement already satisfied: build>=1.0.3 in /usr/local/lib/python3.11/dist-packages (from chromadb) (1.2.2.post1)\n",
            "Collecting pybase64>=1.4.1 (from chromadb)\n",
            "  Downloading pybase64-1.4.1-cp311-cp311-manylinux_2_5_x86_64.manylinux1_x86_64.manylinux_2_17_x86_64.manylinux2014_x86_64.whl.metadata (8.4 kB)\n",
            "Requirement already satisfied: uvicorn>=0.18.3 in /usr/local/lib/python3.11/dist-packages (from uvicorn[standard]>=0.18.3->chromadb) (0.34.3)\n",
            "Requirement already satisfied: numpy>=1.22.5 in /usr/local/lib/python3.11/dist-packages (from chromadb) (2.0.2)\n",
            "Collecting posthog>=2.4.0 (from chromadb)\n",
            "  Downloading posthog-6.0.0-py3-none-any.whl.metadata (6.0 kB)\n",
            "Collecting onnxruntime>=1.14.1 (from chromadb)\n",
            "  Downloading onnxruntime-1.22.0-cp311-cp311-manylinux_2_27_x86_64.manylinux_2_28_x86_64.whl.metadata (4.5 kB)\n",
            "Collecting opentelemetry-api>=1.2.0 (from chromadb)\n",
            "  Downloading opentelemetry_api-1.34.1-py3-none-any.whl.metadata (1.5 kB)\n",
            "Collecting opentelemetry-exporter-otlp-proto-grpc>=1.2.0 (from chromadb)\n",
            "  Downloading opentelemetry_exporter_otlp_proto_grpc-1.34.1-py3-none-any.whl.metadata (2.4 kB)\n",
            "Collecting opentelemetry-sdk>=1.2.0 (from chromadb)\n",
            "  Downloading opentelemetry_sdk-1.34.1-py3-none-any.whl.metadata (1.6 kB)\n",
            "Requirement already satisfied: tokenizers>=0.13.2 in /usr/local/lib/python3.11/dist-packages (from chromadb) (0.21.2)\n",
            "Collecting pypika>=0.48.9 (from chromadb)\n",
            "  Downloading PyPika-0.48.9.tar.gz (67 kB)\n",
            "\u001b[2K     \u001b[90m━━━━━━━━━━━━━━━━━━━━━━━━━━━━━━━━━━━━━━━━\u001b[0m \u001b[32m67.3/67.3 kB\u001b[0m \u001b[31m2.8 MB/s\u001b[0m eta \u001b[36m0:00:00\u001b[0m\n",
            "\u001b[?25h  Installing build dependencies ... \u001b[?25l\u001b[?25hdone\n",
            "  Getting requirements to build wheel ... \u001b[?25l\u001b[?25hdone\n",
            "  Preparing metadata (pyproject.toml) ... \u001b[?25l\u001b[?25hdone\n",
            "Collecting overrides>=7.3.1 (from chromadb)\n",
            "  Downloading overrides-7.7.0-py3-none-any.whl.metadata (5.8 kB)\n",
            "Requirement already satisfied: importlib-resources in /usr/local/lib/python3.11/dist-packages (from chromadb) (6.5.2)\n",
            "Requirement already satisfied: grpcio>=1.58.0 in /usr/local/lib/python3.11/dist-packages (from chromadb) (1.73.0)\n",
            "Collecting bcrypt>=4.0.1 (from chromadb)\n",
            "  Downloading bcrypt-4.3.0-cp39-abi3-manylinux_2_34_x86_64.whl.metadata (10 kB)\n",
            "Requirement already satisfied: typer>=0.9.0 in /usr/local/lib/python3.11/dist-packages (from chromadb) (0.16.0)\n",
            "Collecting kubernetes>=28.1.0 (from chromadb)\n",
            "  Downloading kubernetes-33.1.0-py2.py3-none-any.whl.metadata (1.7 kB)\n",
            "Requirement already satisfied: tenacity>=8.2.3 in /usr/local/lib/python3.11/dist-packages (from chromadb) (8.5.0)\n",
            "Requirement already satisfied: pyyaml>=6.0.0 in /usr/local/lib/python3.11/dist-packages (from chromadb) (6.0.2)\n",
            "Collecting mmh3>=4.0.1 (from chromadb)\n",
            "  Downloading mmh3-5.1.0-cp311-cp311-manylinux_2_5_x86_64.manylinux1_x86_64.manylinux_2_17_x86_64.manylinux2014_x86_64.whl.metadata (16 kB)\n",
            "Requirement already satisfied: orjson>=3.9.12 in /usr/local/lib/python3.11/dist-packages (from chromadb) (3.10.18)\n",
            "Requirement already satisfied: httpx>=0.27.0 in /usr/local/lib/python3.11/dist-packages (from chromadb) (0.28.1)\n",
            "Requirement already satisfied: rich>=10.11.0 in /usr/local/lib/python3.11/dist-packages (from chromadb) (13.9.4)\n",
            "Requirement already satisfied: jsonschema>=4.19.0 in /usr/local/lib/python3.11/dist-packages (from chromadb) (4.24.0)\n",
            "Requirement already satisfied: packaging>=19.1 in /usr/local/lib/python3.11/dist-packages (from build>=1.0.3->chromadb) (24.2)\n",
            "Requirement already satisfied: pyproject_hooks in /usr/local/lib/python3.11/dist-packages (from build>=1.0.3->chromadb) (1.2.0)\n",
            "Requirement already satisfied: googleapis-common-protos<2.0.0,>=1.56.2 in /usr/local/lib/python3.11/dist-packages (from google-api-core->google-generativeai) (1.70.0)\n",
            "Requirement already satisfied: cachetools<6.0,>=2.0.0 in /usr/local/lib/python3.11/dist-packages (from google-auth>=2.15.0->google-generativeai) (5.5.2)\n",
            "Requirement already satisfied: pyasn1-modules>=0.2.1 in /usr/local/lib/python3.11/dist-packages (from google-auth>=2.15.0->google-generativeai) (0.4.2)\n",
            "Requirement already satisfied: rsa<5,>=3.1.4 in /usr/local/lib/python3.11/dist-packages (from google-auth>=2.15.0->google-generativeai) (4.9.1)\n",
            "Requirement already satisfied: anyio in /usr/local/lib/python3.11/dist-packages (from httpx>=0.27.0->chromadb) (4.9.0)\n",
            "Requirement already satisfied: certifi in /usr/local/lib/python3.11/dist-packages (from httpx>=0.27.0->chromadb) (2025.6.15)\n",
            "Requirement already satisfied: httpcore==1.* in /usr/local/lib/python3.11/dist-packages (from httpx>=0.27.0->chromadb) (1.0.9)\n",
            "Requirement already satisfied: idna in /usr/local/lib/python3.11/dist-packages (from httpx>=0.27.0->chromadb) (3.10)\n",
            "Requirement already satisfied: h11>=0.16 in /usr/local/lib/python3.11/dist-packages (from httpcore==1.*->httpx>=0.27.0->chromadb) (0.16.0)\n",
            "Requirement already satisfied: attrs>=22.2.0 in /usr/local/lib/python3.11/dist-packages (from jsonschema>=4.19.0->chromadb) (25.3.0)\n",
            "Requirement already satisfied: jsonschema-specifications>=2023.03.6 in /usr/local/lib/python3.11/dist-packages (from jsonschema>=4.19.0->chromadb) (2025.4.1)\n",
            "Requirement already satisfied: referencing>=0.28.4 in /usr/local/lib/python3.11/dist-packages (from jsonschema>=4.19.0->chromadb) (0.36.2)\n",
            "Requirement already satisfied: rpds-py>=0.7.1 in /usr/local/lib/python3.11/dist-packages (from jsonschema>=4.19.0->chromadb) (0.25.1)\n",
            "Requirement already satisfied: six>=1.9.0 in /usr/local/lib/python3.11/dist-packages (from kubernetes>=28.1.0->chromadb) (1.17.0)\n",
            "Requirement already satisfied: python-dateutil>=2.5.3 in /usr/local/lib/python3.11/dist-packages (from kubernetes>=28.1.0->chromadb) (2.9.0.post0)\n",
            "Requirement already satisfied: websocket-client!=0.40.0,!=0.41.*,!=0.42.*,>=0.32.0 in /usr/local/lib/python3.11/dist-packages (from kubernetes>=28.1.0->chromadb) (1.8.0)\n",
            "Requirement already satisfied: requests-oauthlib in /usr/local/lib/python3.11/dist-packages (from kubernetes>=28.1.0->chromadb) (2.0.0)\n",
            "Requirement already satisfied: oauthlib>=3.2.2 in /usr/local/lib/python3.11/dist-packages (from kubernetes>=28.1.0->chromadb) (3.3.1)\n",
            "Requirement already satisfied: urllib3>=1.24.2 in /usr/local/lib/python3.11/dist-packages (from kubernetes>=28.1.0->chromadb) (2.4.0)\n",
            "Collecting durationpy>=0.7 (from kubernetes>=28.1.0->chromadb)\n",
            "  Downloading durationpy-0.10-py3-none-any.whl.metadata (340 bytes)\n",
            "Collecting coloredlogs (from onnxruntime>=1.14.1->chromadb)\n",
            "  Downloading coloredlogs-15.0.1-py2.py3-none-any.whl.metadata (12 kB)\n",
            "Requirement already satisfied: flatbuffers in /usr/local/lib/python3.11/dist-packages (from onnxruntime>=1.14.1->chromadb) (25.2.10)\n",
            "Requirement already satisfied: sympy in /usr/local/lib/python3.11/dist-packages (from onnxruntime>=1.14.1->chromadb) (1.13.1)\n",
            "Requirement already satisfied: importlib-metadata<8.8.0,>=6.0 in /usr/local/lib/python3.11/dist-packages (from opentelemetry-api>=1.2.0->chromadb) (8.7.0)\n",
            "Collecting opentelemetry-exporter-otlp-proto-common==1.34.1 (from opentelemetry-exporter-otlp-proto-grpc>=1.2.0->chromadb)\n",
            "  Downloading opentelemetry_exporter_otlp_proto_common-1.34.1-py3-none-any.whl.metadata (1.9 kB)\n",
            "Collecting opentelemetry-proto==1.34.1 (from opentelemetry-exporter-otlp-proto-grpc>=1.2.0->chromadb)\n",
            "  Downloading opentelemetry_proto-1.34.1-py3-none-any.whl.metadata (2.4 kB)\n",
            "Collecting opentelemetry-semantic-conventions==0.55b1 (from opentelemetry-sdk>=1.2.0->chromadb)\n",
            "  Downloading opentelemetry_semantic_conventions-0.55b1-py3-none-any.whl.metadata (2.5 kB)\n",
            "Collecting backoff>=1.10.0 (from posthog>=2.4.0->chromadb)\n",
            "  Downloading backoff-2.2.1-py3-none-any.whl.metadata (14 kB)\n",
            "Requirement already satisfied: distro>=1.5.0 in /usr/local/lib/python3.11/dist-packages (from posthog>=2.4.0->chromadb) (1.9.0)\n",
            "Requirement already satisfied: annotated-types>=0.6.0 in /usr/local/lib/python3.11/dist-packages (from pydantic->google-generativeai) (0.7.0)\n",
            "Requirement already satisfied: pydantic-core==2.33.2 in /usr/local/lib/python3.11/dist-packages (from pydantic->google-generativeai) (2.33.2)\n",
            "Requirement already satisfied: typing-inspection>=0.4.0 in /usr/local/lib/python3.11/dist-packages (from pydantic->google-generativeai) (0.4.1)\n",
            "Requirement already satisfied: charset-normalizer<4,>=2 in /usr/local/lib/python3.11/dist-packages (from requests->youtube-transcript-api) (3.4.2)\n",
            "Requirement already satisfied: markdown-it-py>=2.2.0 in /usr/local/lib/python3.11/dist-packages (from rich>=10.11.0->chromadb) (3.0.0)\n",
            "Requirement already satisfied: pygments<3.0.0,>=2.13.0 in /usr/local/lib/python3.11/dist-packages (from rich>=10.11.0->chromadb) (2.19.2)\n",
            "Requirement already satisfied: huggingface-hub<1.0,>=0.16.4 in /usr/local/lib/python3.11/dist-packages (from tokenizers>=0.13.2->chromadb) (0.33.0)\n",
            "Requirement already satisfied: click>=8.0.0 in /usr/local/lib/python3.11/dist-packages (from typer>=0.9.0->chromadb) (8.2.1)\n",
            "Requirement already satisfied: shellingham>=1.3.0 in /usr/local/lib/python3.11/dist-packages (from typer>=0.9.0->chromadb) (1.5.4)\n",
            "Collecting httptools>=0.6.3 (from uvicorn[standard]>=0.18.3->chromadb)\n",
            "  Downloading httptools-0.6.4-cp311-cp311-manylinux_2_5_x86_64.manylinux1_x86_64.manylinux_2_17_x86_64.manylinux2014_x86_64.whl.metadata (3.6 kB)\n",
            "Collecting python-dotenv>=0.13 (from uvicorn[standard]>=0.18.3->chromadb)\n",
            "  Downloading python_dotenv-1.1.1-py3-none-any.whl.metadata (24 kB)\n",
            "Collecting uvloop>=0.15.1 (from uvicorn[standard]>=0.18.3->chromadb)\n",
            "  Downloading uvloop-0.21.0-cp311-cp311-manylinux_2_17_x86_64.manylinux2014_x86_64.whl.metadata (4.9 kB)\n",
            "Collecting watchfiles>=0.13 (from uvicorn[standard]>=0.18.3->chromadb)\n",
            "  Downloading watchfiles-1.1.0-cp311-cp311-manylinux_2_17_x86_64.manylinux2014_x86_64.whl.metadata (4.9 kB)\n",
            "Requirement already satisfied: websockets>=10.4 in /usr/local/lib/python3.11/dist-packages (from uvicorn[standard]>=0.18.3->chromadb) (15.0.1)\n",
            "Requirement already satisfied: httplib2<1.0.0,>=0.19.0 in /usr/local/lib/python3.11/dist-packages (from google-api-python-client->google-generativeai) (0.22.0)\n",
            "Requirement already satisfied: google-auth-httplib2<1.0.0,>=0.2.0 in /usr/local/lib/python3.11/dist-packages (from google-api-python-client->google-generativeai) (0.2.0)\n",
            "Requirement already satisfied: uritemplate<5,>=3.0.1 in /usr/local/lib/python3.11/dist-packages (from google-api-python-client->google-generativeai) (4.2.0)\n",
            "Requirement already satisfied: grpcio-status<2.0.0,>=1.33.2 in /usr/local/lib/python3.11/dist-packages (from google-api-core[grpc]!=2.0.*,!=2.1.*,!=2.10.*,!=2.2.*,!=2.3.*,!=2.4.*,!=2.5.*,!=2.6.*,!=2.7.*,!=2.8.*,!=2.9.*,<3.0.0dev,>=1.34.1->google-ai-generativelanguage==0.6.15->google-generativeai) (1.71.0)\n",
            "Requirement already satisfied: pyparsing!=3.0.0,!=3.0.1,!=3.0.2,!=3.0.3,<4,>=2.4.2 in /usr/local/lib/python3.11/dist-packages (from httplib2<1.0.0,>=0.19.0->google-api-python-client->google-generativeai) (3.2.3)\n",
            "Requirement already satisfied: filelock in /usr/local/lib/python3.11/dist-packages (from huggingface-hub<1.0,>=0.16.4->tokenizers>=0.13.2->chromadb) (3.18.0)\n",
            "Requirement already satisfied: fsspec>=2023.5.0 in /usr/local/lib/python3.11/dist-packages (from huggingface-hub<1.0,>=0.16.4->tokenizers>=0.13.2->chromadb) (2025.3.2)\n",
            "Requirement already satisfied: hf-xet<2.0.0,>=1.1.2 in /usr/local/lib/python3.11/dist-packages (from huggingface-hub<1.0,>=0.16.4->tokenizers>=0.13.2->chromadb) (1.1.5)\n",
            "Requirement already satisfied: zipp>=3.20 in /usr/local/lib/python3.11/dist-packages (from importlib-metadata<8.8.0,>=6.0->opentelemetry-api>=1.2.0->chromadb) (3.23.0)\n",
            "Requirement already satisfied: mdurl~=0.1 in /usr/local/lib/python3.11/dist-packages (from markdown-it-py>=2.2.0->rich>=10.11.0->chromadb) (0.1.2)\n",
            "Requirement already satisfied: pyasn1<0.7.0,>=0.6.1 in /usr/local/lib/python3.11/dist-packages (from pyasn1-modules>=0.2.1->google-auth>=2.15.0->google-generativeai) (0.6.1)\n",
            "Requirement already satisfied: sniffio>=1.1 in /usr/local/lib/python3.11/dist-packages (from anyio->httpx>=0.27.0->chromadb) (1.3.1)\n",
            "Collecting humanfriendly>=9.1 (from coloredlogs->onnxruntime>=1.14.1->chromadb)\n",
            "  Downloading humanfriendly-10.0-py2.py3-none-any.whl.metadata (9.2 kB)\n",
            "Requirement already satisfied: mpmath<1.4,>=1.1.0 in /usr/local/lib/python3.11/dist-packages (from sympy->onnxruntime>=1.14.1->chromadb) (1.3.0)\n",
            "Downloading youtube_transcript_api-1.1.0-py3-none-any.whl (485 kB)\n",
            "\u001b[2K   \u001b[90m━━━━━━━━━━━━━━━━━━━━━━━━━━━━━━━━━━━━━━━━\u001b[0m \u001b[32m485.7/485.7 kB\u001b[0m \u001b[31m14.6 MB/s\u001b[0m eta \u001b[36m0:00:00\u001b[0m\n",
            "\u001b[?25hDownloading chromadb-1.0.13-cp39-abi3-manylinux_2_17_x86_64.manylinux2014_x86_64.whl (19.3 MB)\n",
            "\u001b[2K   \u001b[90m━━━━━━━━━━━━━━━━━━━━━━━━━━━━━━━━━━━━━━━━\u001b[0m \u001b[32m19.3/19.3 MB\u001b[0m \u001b[31m82.3 MB/s\u001b[0m eta \u001b[36m0:00:00\u001b[0m\n",
            "\u001b[?25hDownloading bcrypt-4.3.0-cp39-abi3-manylinux_2_34_x86_64.whl (284 kB)\n",
            "\u001b[2K   \u001b[90m━━━━━━━━━━━━━━━━━━━━━━━━━━━━━━━━━━━━━━━━\u001b[0m \u001b[32m284.2/284.2 kB\u001b[0m \u001b[31m17.2 MB/s\u001b[0m eta \u001b[36m0:00:00\u001b[0m\n",
            "\u001b[?25hDownloading kubernetes-33.1.0-py2.py3-none-any.whl (1.9 MB)\n",
            "\u001b[2K   \u001b[90m━━━━━━━━━━━━━━━━━━━━━━━━━━━━━━━━━━━━━━━━\u001b[0m \u001b[32m1.9/1.9 MB\u001b[0m \u001b[31m64.6 MB/s\u001b[0m eta \u001b[36m0:00:00\u001b[0m\n",
            "\u001b[?25hDownloading mmh3-5.1.0-cp311-cp311-manylinux_2_5_x86_64.manylinux1_x86_64.manylinux_2_17_x86_64.manylinux2014_x86_64.whl (101 kB)\n",
            "\u001b[2K   \u001b[90m━━━━━━━━━━━━━━━━━━━━━━━━━━━━━━━━━━━━━━━━\u001b[0m \u001b[32m101.6/101.6 kB\u001b[0m \u001b[31m6.6 MB/s\u001b[0m eta \u001b[36m0:00:00\u001b[0m\n",
            "\u001b[?25hDownloading onnxruntime-1.22.0-cp311-cp311-manylinux_2_27_x86_64.manylinux_2_28_x86_64.whl (16.4 MB)\n",
            "\u001b[2K   \u001b[90m━━━━━━━━━━━━━━━━━━━━━━━━━━━━━━━━━━━━━━━━\u001b[0m \u001b[32m16.4/16.4 MB\u001b[0m \u001b[31m78.1 MB/s\u001b[0m eta \u001b[36m0:00:00\u001b[0m\n",
            "\u001b[?25hDownloading opentelemetry_api-1.34.1-py3-none-any.whl (65 kB)\n",
            "\u001b[2K   \u001b[90m━━━━━━━━━━━━━━━━━━━━━━━━━━━━━━━━━━━━━━━━\u001b[0m \u001b[32m65.8/65.8 kB\u001b[0m \u001b[31m4.0 MB/s\u001b[0m eta \u001b[36m0:00:00\u001b[0m\n",
            "\u001b[?25hDownloading opentelemetry_exporter_otlp_proto_grpc-1.34.1-py3-none-any.whl (18 kB)\n",
            "Downloading opentelemetry_exporter_otlp_proto_common-1.34.1-py3-none-any.whl (18 kB)\n",
            "Downloading opentelemetry_proto-1.34.1-py3-none-any.whl (55 kB)\n",
            "\u001b[2K   \u001b[90m━━━━━━━━━━━━━━━━━━━━━━━━━━━━━━━━━━━━━━━━\u001b[0m \u001b[32m55.7/55.7 kB\u001b[0m \u001b[31m3.8 MB/s\u001b[0m eta \u001b[36m0:00:00\u001b[0m\n",
            "\u001b[?25hDownloading opentelemetry_sdk-1.34.1-py3-none-any.whl (118 kB)\n",
            "\u001b[2K   \u001b[90m━━━━━━━━━━━━━━━━━━━━━━━━━━━━━━━━━━━━━━━━\u001b[0m \u001b[32m118.5/118.5 kB\u001b[0m \u001b[31m8.3 MB/s\u001b[0m eta \u001b[36m0:00:00\u001b[0m\n",
            "\u001b[?25hDownloading opentelemetry_semantic_conventions-0.55b1-py3-none-any.whl (196 kB)\n",
            "\u001b[2K   \u001b[90m━━━━━━━━━━━━━━━━━━━━━━━━━━━━━━━━━━━━━━━━\u001b[0m \u001b[32m196.2/196.2 kB\u001b[0m \u001b[31m11.7 MB/s\u001b[0m eta \u001b[36m0:00:00\u001b[0m\n",
            "\u001b[?25hDownloading overrides-7.7.0-py3-none-any.whl (17 kB)\n",
            "Downloading posthog-6.0.0-py3-none-any.whl (104 kB)\n",
            "\u001b[2K   \u001b[90m━━━━━━━━━━━━━━━━━━━━━━━━━━━━━━━━━━━━━━━━\u001b[0m \u001b[32m104.9/104.9 kB\u001b[0m \u001b[31m7.4 MB/s\u001b[0m eta \u001b[36m0:00:00\u001b[0m\n",
            "\u001b[?25hDownloading pybase64-1.4.1-cp311-cp311-manylinux_2_5_x86_64.manylinux1_x86_64.manylinux_2_17_x86_64.manylinux2014_x86_64.whl (71 kB)\n",
            "\u001b[2K   \u001b[90m━━━━━━━━━━━━━━━━━━━━━━━━━━━━━━━━━━━━━━━━\u001b[0m \u001b[32m71.2/71.2 kB\u001b[0m \u001b[31m5.5 MB/s\u001b[0m eta \u001b[36m0:00:00\u001b[0m\n",
            "\u001b[?25hDownloading backoff-2.2.1-py3-none-any.whl (15 kB)\n",
            "Downloading durationpy-0.10-py3-none-any.whl (3.9 kB)\n",
            "Downloading httptools-0.6.4-cp311-cp311-manylinux_2_5_x86_64.manylinux1_x86_64.manylinux_2_17_x86_64.manylinux2014_x86_64.whl (459 kB)\n",
            "\u001b[2K   \u001b[90m━━━━━━━━━━━━━━━━━━━━━━━━━━━━━━━━━━━━━━━━\u001b[0m \u001b[32m459.8/459.8 kB\u001b[0m \u001b[31m27.0 MB/s\u001b[0m eta \u001b[36m0:00:00\u001b[0m\n",
            "\u001b[?25hDownloading python_dotenv-1.1.1-py3-none-any.whl (20 kB)\n",
            "Downloading uvloop-0.21.0-cp311-cp311-manylinux_2_17_x86_64.manylinux2014_x86_64.whl (4.0 MB)\n",
            "\u001b[2K   \u001b[90m━━━━━━━━━━━━━━━━━━━━━━━━━━━━━━━━━━━━━━━━\u001b[0m \u001b[32m4.0/4.0 MB\u001b[0m \u001b[31m94.0 MB/s\u001b[0m eta \u001b[36m0:00:00\u001b[0m\n",
            "\u001b[?25hDownloading watchfiles-1.1.0-cp311-cp311-manylinux_2_17_x86_64.manylinux2014_x86_64.whl (453 kB)\n",
            "\u001b[2K   \u001b[90m━━━━━━━━━━━━━━━━━━━━━━━━━━━━━━━━━━━━━━━━\u001b[0m \u001b[32m453.1/453.1 kB\u001b[0m \u001b[31m27.2 MB/s\u001b[0m eta \u001b[36m0:00:00\u001b[0m\n",
            "\u001b[?25hDownloading coloredlogs-15.0.1-py2.py3-none-any.whl (46 kB)\n",
            "\u001b[2K   \u001b[90m━━━━━━━━━━━━━━━━━━━━━━━━━━━━━━━━━━━━━━━━\u001b[0m \u001b[32m46.0/46.0 kB\u001b[0m \u001b[31m3.0 MB/s\u001b[0m eta \u001b[36m0:00:00\u001b[0m\n",
            "\u001b[?25hDownloading humanfriendly-10.0-py2.py3-none-any.whl (86 kB)\n",
            "\u001b[2K   \u001b[90m━━━━━━━━━━━━━━━━━━━━━━━━━━━━━━━━━━━━━━━━\u001b[0m \u001b[32m86.8/86.8 kB\u001b[0m \u001b[31m6.8 MB/s\u001b[0m eta \u001b[36m0:00:00\u001b[0m\n",
            "\u001b[?25hBuilding wheels for collected packages: pypika\n",
            "  Building wheel for pypika (pyproject.toml) ... \u001b[?25l\u001b[?25hdone\n",
            "  Created wheel for pypika: filename=pypika-0.48.9-py2.py3-none-any.whl size=53803 sha256=6aa31fffd9a1edcc7ccf5cc67aaa725501e3adf17042434228f7688c9eb07110\n",
            "  Stored in directory: /root/.cache/pip/wheels/a3/01/bd/4c40ceb9d5354160cb186dcc153360f4ab7eb23e2b24daf96d\n",
            "Successfully built pypika\n",
            "Installing collected packages: pypika, durationpy, uvloop, python-dotenv, pybase64, overrides, opentelemetry-proto, mmh3, humanfriendly, httptools, bcrypt, backoff, youtube-transcript-api, watchfiles, posthog, opentelemetry-exporter-otlp-proto-common, opentelemetry-api, coloredlogs, opentelemetry-semantic-conventions, onnxruntime, kubernetes, opentelemetry-sdk, opentelemetry-exporter-otlp-proto-grpc, chromadb\n",
            "Successfully installed backoff-2.2.1 bcrypt-4.3.0 chromadb-1.0.13 coloredlogs-15.0.1 durationpy-0.10 httptools-0.6.4 humanfriendly-10.0 kubernetes-33.1.0 mmh3-5.1.0 onnxruntime-1.22.0 opentelemetry-api-1.34.1 opentelemetry-exporter-otlp-proto-common-1.34.1 opentelemetry-exporter-otlp-proto-grpc-1.34.1 opentelemetry-proto-1.34.1 opentelemetry-sdk-1.34.1 opentelemetry-semantic-conventions-0.55b1 overrides-7.7.0 posthog-6.0.0 pybase64-1.4.1 pypika-0.48.9 python-dotenv-1.1.1 uvloop-0.21.0 watchfiles-1.1.0 youtube-transcript-api-1.1.0\n"
          ]
        }
      ],
      "source": [
        "!pip install youtube-transcript-api google-generativeai chromadb"
      ]
    },
    {
      "cell_type": "code",
      "source": [
        "from youtube_transcript_api import YouTubeTranscriptApi\n",
        "from youtube_transcript_api.formatters import TextFormatter\n",
        "\n",
        "# Gemini API\n",
        "# Free, double-check pricing https://ai.google.dev/pricing\n",
        "import google.generativeai as genai\n",
        "\n",
        "# ChromaDB\n",
        "import chromadb\n",
        "from chromadb.utils import embedding_functions\n",
        "\n",
        "import os"
      ],
      "metadata": {
        "id": "EXv___qmoNrm"
      },
      "execution_count": null,
      "outputs": []
    },
    {
      "cell_type": "markdown",
      "source": [
        "Set up resources"
      ],
      "metadata": {
        "id": "30TmAj88sVTo"
      }
    },
    {
      "cell_type": "code",
      "source": [
        "GEMINI_API_KEY = 'YOUR_KEY'\n",
        "genai.configure(api_key=GEMINI_API_KEY)\n",
        "\n",
        "# Instantiate Gemini model\n",
        "genai_model = genai.GenerativeModel('models/gemini-2.5-flash')\n",
        "\n",
        "# Load the vector database, if it exists, otherwise create new on first run\n",
        "chroma_client = chromadb.PersistentClient(path=\"my_vectordb\")\n",
        "\n",
        "# Select an embedding function.\n",
        "# Embedding Function choices:https://docs.trychroma.com/guides/embeddings#custom-embedding-functions\n",
        "gemini_ef  = embedding_functions.GoogleGenerativeAiEmbeddingFunction(api_key=GEMINI_API_KEY)\n",
        "\n",
        "# Load collection, if it exists, otherwise create new on first run. Specify the model that we want to use to do the embedding.\n",
        "chroma_collection = chroma_client.get_or_create_collection(name='yt_notes', embedding_function=gemini_ef)"
      ],
      "metadata": {
        "colab": {
          "base_uri": "https://localhost:8080/"
        },
        "id": "lr7zCfKboq0Q",
        "outputId": "1738763c-98fa-4ddd-c20e-2663899d8d1d"
      },
      "execution_count": null,
      "outputs": [
        {
          "output_type": "stream",
          "name": "stderr",
          "text": [
            "ERROR:chromadb.telemetry.product.posthog:Failed to send telemetry event ClientStartEvent: capture() takes 1 positional argument but 3 were given\n",
            "ERROR:chromadb.telemetry.product.posthog:Failed to send telemetry event ClientCreateCollectionEvent: capture() takes 1 positional argument but 3 were given\n"
          ]
        }
      ]
    },
    {
      "cell_type": "markdown",
      "source": [
        "INPUT"
      ],
      "metadata": {
        "id": "6WGNz61MsYGk"
      }
    },
    {
      "cell_type": "code",
      "source": [
        "# Some sample YouTube videos:\n",
        "# https://youtu.be/IdLSZEYlWVo\n",
        "# https://youtu.be/tL-wnMVyTQI\n",
        "# https://youtu.be/etSdP9CFmko\n",
        "# https://youtu.be/rgRIZDsEwCk\n",
        "# https://youtu.be/_EA-74yr5D4\n",
        "\n",
        "yt_video_id = 'IdLSZEYlWVo'\n",
        "\n",
        "# Adjust prompt as needed\n",
        "prompt = \"Extract key notes from video transcript: \""
      ],
      "metadata": {
        "id": "TYjqTOKtqXzF"
      },
      "execution_count": null,
      "outputs": []
    },
    {
      "cell_type": "markdown",
      "source": [
        "Extract Transcript"
      ],
      "metadata": {
        "id": "LeGRKd-esZ2r"
      }
    },
    {
      "cell_type": "code",
      "source": [
        "# Reference: https://github.com/jdepoix/youtube-transcript-api\n",
        "transcript_list = YouTubeTranscriptApi.get_transcript(yt_video_id, languages=['en','en-US','en-GB'])\n",
        "transcript = \"\\n\".join([item['text'] for item in transcript_list])\n",
        "\n",
        "with open(\"temp_transcript.txt\", \"w\") as file:\n",
        "    file.write(transcript)"
      ],
      "metadata": {
        "id": "de-r6cKErUjV"
      },
      "execution_count": null,
      "outputs": []
    },
    {
      "cell_type": "markdown",
      "source": [
        "Generate Notes"
      ],
      "metadata": {
        "id": "USFnKLi_slDG"
      }
    },
    {
      "cell_type": "code",
      "source": [
        "response = genai_model.generate_content(prompt + transcript, stream=False)\n",
        "\n",
        "with open(\"temp_notes.txt\", \"w\") as file:\n",
        "    file.write(response.text)\n",
        "\n",
        "# Review temp_notes.txt, edit if necessary"
      ],
      "metadata": {
        "id": "z2mHYrFAsNSD"
      },
      "execution_count": null,
      "outputs": []
    },
    {
      "cell_type": "markdown",
      "source": [
        "Save Notes"
      ],
      "metadata": {
        "id": "vbGZ9P8Ss_IO"
      }
    },
    {
      "cell_type": "code",
      "source": [
        "with open(\"temp_notes.txt\", \"r\") as file:\n",
        "    notes = file.read()\n",
        "\n",
        "# Insert, if record doesn't exist, otherwise update existing record\n",
        "# https://docs.trychroma.com/reference/py-collection#upsert\n",
        "chroma_collection.upsert(\n",
        "    documents=[notes],\n",
        "    ids=[yt_video_id]\n",
        ")\n",
        "\n",
        "# Validation\n",
        "result = chroma_collection.get(yt_video_id, include=['documents'])\n",
        "result"
      ],
      "metadata": {
        "colab": {
          "base_uri": "https://localhost:8080/",
          "height": 607
        },
        "collapsed": true,
        "id": "K_5U7lpns_q_",
        "outputId": "6796a03d-d45d-4ec1-8fc4-31394ee5d43b"
      },
      "execution_count": null,
      "outputs": [
        {
          "output_type": "execute_result",
          "data": {
            "text/plain": [
              "{'ids': ['IdLSZEYlWVo'],\n",
              " 'embeddings': None,\n",
              " 'documents': ['Here are the key notes from the video transcript:\\n\\n**Speaker\\'s Stance:**\\n*   A used car dealer advises *against* buying used cars from dealers, including himself.\\n\\n**Why Avoid Used Car Dealers (Primary Reasons):**\\n\\n1.  **Source of Inventory (Auctions):**\\n    *   98% of used cars come from auctions.\\n    *   These are often \"trade-ins\" from new car dealerships.\\n    *   New car dealerships send cars to auction because they don\\'t want them on their lot, usually due to:\\n        *   Being \"problem cars\" with existing issues.\\n        *   Not wanting older models.\\n    *   Essentially, used car dealers buy \"someone else\\'s problems.\"\\n    *   *Speaker\\'s exception:* His dealership can fix many issues cheaply (due to in-house mechanic, selling cars under $5k), but most other dealers don\\'t have this luxury and pass problems to customers.\\n    *   **Repossessed Cars (\"Repos\"):** Also common at auctions. Owners often neglect maintenance because they can\\'t afford payments and repairs. Speaker avoids these due to guaranteed issues.\\n    *   **The \"Perfect Car\" Rule:** If a car were perfect (no issues, well-maintained), the original owner likely wouldn\\'t trade it in, or the new car dealer would keep it to sell themselves, not send it to auction. Used car inventory is largely \"hand-me-downs.\"\\n\\n2.  **Lack of Vehicle History:**\\n    *   Carfax reports are insufficient; they don\\'t show:\\n        *   How the car was maintained (e.g., last oil change).\\n        *   How it was driven.\\n        *   The previous owner\\'s habits (e.g., \"cat smell\" which is hard to remove permanently).\\n\\n3.  **Shady Business Practices & Dealer Motivation:**\\n    *   Many dealers are perceived as \"shady\" and are focused on profit, not the customer\\'s benefit.\\n    *   **Inventory Financing (\"Floor Plan\"):** Most dealers borrow money to buy their inventory, creating a \"time clock\" (interest accrues daily).\\n    *   This forces dealers to:\\n        *   Sell cars as quickly as possible.\\n        *   Employ predatory sales tactics to push sales immediately.\\n        *   *Speaker\\'s exception:* His dealership pays cash for inventory, avoiding this pressure.\\n\\n4.  **Excessive & Hidden Fees:**\\n    *   It\\'s hard to get a \"true price\" upfront.\\n    *   Dealers often refuse to disclose fees over the phone to get customers in the door. (Example: a $13,000 car becoming $18,000 with fees).\\n    *   Common unnecessary fees: Nitrogen, Recon fees, excessive Documentation (Doc) fees.\\n    *   Many dealers charge these \"because they can.\"\\n    *   *Speaker\\'s exception:* His dealership charges *no* fees, not even a doc fee, which is extremely rare.\\n\\n**Advice for Buying a Car (If You Must Buy from a Dealer):**\\n\\n1.  **For New Cars (Limited Options):**\\n    *   **Find a \"Good Dealer\":** Call multiple dealerships.\\n    *   **Demand Transparency:** Ask for the \"out-the-door price,\" including all fees (doc fees, add-ons like nitrogen, market adjustments) *before* visiting.\\n    *   Avoid dealers who refuse to disclose this information over the phone; they\\'re likely hiding high fees.\\n    *   **Negotiation Strategy:**\\n        *   Do your research to know a fair price (e.g., \"10% off MSRP\").\\n        *   State your offer clearly.\\n        *   **Crucial:** Be willing to walk away if your reasonable offer isn\\'t accepted. Another dealership will likely take it.\\n\\n2.  **For Used Cars (Preferred Alternatives to Dealers):**\\n    *   **Buy from Someone You Know:** Friends, family members.\\n        *   You\\'ll know the car\\'s history, maintenance, and how it was driven.\\n        *   No extra fees.\\n    *   **Online Marketplaces (e.g., Facebook Marketplace):**\\n        *   **Safety First:** Take someone with you, meet in a public place (police station parking lot, bank parking lot).\\n\\n**The Single Most Important Piece of Advice (Regardless of Where You Buy):**\\n\\n*   **Always get the car checked out by a trusted mechanic *before* you buy it.**'],\n",
              " 'uris': None,\n",
              " 'included': ['documents'],\n",
              " 'data': None,\n",
              " 'metadatas': None}"
            ]
          },
          "metadata": {},
          "execution_count": 32
        }
      ]
    },
    {
      "cell_type": "markdown",
      "source": [
        "Search Notes"
      ],
      "metadata": {
        "id": "WULc1fUrykH_"
      }
    },
    {
      "cell_type": "code",
      "source": [
        "query_text = \"How much beef do I need for the beef ribs recipe?\"\n",
        "n_results = 2\n",
        "\n",
        "# https://docs.trychroma.com/reference/py-collection#query\n",
        "results = chroma_collection.query(\n",
        "    query_texts=[query_text],\n",
        "    n_results=n_results,\n",
        "    include=['documents', 'distances', 'metadatas'],\n",
        ")\n",
        "\n",
        "for i in range(len(results['ids'][0])):\n",
        "    id       = results[\"ids\"][0][i]\n",
        "    document = results['documents'][0][i]\n",
        "\n",
        "    print(\"************************************************************************\")\n",
        "    print(f\"{i+1}.  https://youtu.be/{id}\")\n",
        "    print(\"************************************************************************\")\n",
        "    print(document)\n"
      ],
      "metadata": {
        "colab": {
          "base_uri": "https://localhost:8080/",
          "height": 1000
        },
        "id": "Zd-pM7oaykkf",
        "outputId": "86b01184-dcae-44dd-d50e-dd8621daf90c"
      },
      "execution_count": null,
      "outputs": [
        {
          "output_type": "stream",
          "name": "stdout",
          "text": [
            "************************************************************************\n",
            "1.  https://youtu.be/etSdP9CFmko\n",
            "************************************************************************\n",
            "Here are the key notes from the video transcript on making Braised Beef Ribs:\n",
            "\n",
            "**Dish:** Braised Beef Ribs\n",
            "\n",
            "**Main Ingredient:**\n",
            "*   1 kilogram Beef Ribs\n",
            "\n",
            "**Preparation (Beef Ribs):**\n",
            "*   Soak ribs in warm water for 30 minutes to remove bone dust and blood.\n",
            "*   Rinse clean.\n",
            "*   **Blanching:** Place ribs in cold water, bring to a boil. Remove ribs from the areas where bubbles are actively coming up. (No need to rinse after blanching).\n",
            "\n",
            "**Ingredients (Spices & Seasoning):**\n",
            "*   **Spices:** Star anise, cinnamon, cloves, bay leaves, Sichuan peppercorns (more), chilies (more).\n",
            "*   Green onions, ginger\n",
            "*   Sugar (for caramelization)\n",
            "*   Tomato paste\n",
            "*   Boiling water\n",
            "*   Soy Sauce: 2 tablespoons regular soy sauce, 1 teaspoon dark soy sauce\n",
            "*   Salt (to taste, after adding soy sauce)\n",
            "\n",
            "**Cooking Steps (Pressure Cooker Method):**\n",
            "1.  Heat oil in a pressure cooker. Add sugar when the oil is *not yet hot*.\n",
            "2.  Heat on high until sugar changes color, then reduce to the lowest heat until it turns into a dark amber caramel.\n",
            "3.  Add green onions and ginger, then the blanched beef ribs. Stir-fry until the meat is coated with caramel and turns a beautiful red.\n",
            "4.  Add spices and tomato paste. Continue to stir-fry until fragrant and some brown bits form at the bottom of the pan.\n",
            "5.  Add boiling water (approx. half the height of the meat).\n",
            "6.  Use chopsticks to arrange ribs so more are submerged.\n",
            "7.  Add regular and dark soy sauce. Taste and add salt if needed.\n",
            "8.  Close the lid. Cook on low heat for 15 minutes *after* pressure builds up.\n",
            "    *   **Tip:** Do not overcook to prevent bones from completely falling off (for better presentation).\n",
            "9.  After steam is gone, open the lid. Scoop out most of the spices (it's okay to leave some).\n",
            "10. Increase heat to high and reduce excess liquid until the soup thickens. Stir gently as the meat is already cooked.\n",
            "\n",
            "**Serving:**\n",
            "*   Garnish with sesame seeds and chopped green onions.\n",
            "*   **Taste Profile:** Spicy, delicious, with a tingling sensation (from Sichuan peppercorns) and a subtle caramel sweetness. Bones fall off easily.\n",
            "\n",
            "**General Note:**\n",
            "*   This is a very basic braising recipe that can be adapted to cook other meats.\n",
            "************************************************************************\n",
            "2.  https://youtu.be/tL-wnMVyTQI\n",
            "************************************************************************\n",
            "Here are the key notes from the video transcript:\n",
            "\n",
            "**Dish Overview:**\n",
            "*   **Dish:** Buttery, garlicky steak bites on homemade mashed potatoes.\n",
            "*   **Time:** Quick dinner, \"under 30 minutes.\"\n",
            "*   **Preparation Tip:** Have mashed potatoes ready *before* cooking steak bites.\n",
            "\n",
            "**Sponsor Segment: Truff Hot Sauce**\n",
            "*   **Product:** Truff Hot Sauce (and expanded line: truffle oils, mayo, pasta sauces).\n",
            "*   **Reason for Endorsement:** Stood out among many hot sauces; combines \"nice heat with beautiful truffle\" without being overpowering.\n",
            "*   **Personal Use:** Max (co-host) has been using it for years.\n",
            "*   **Company Claim:** Fastest-growing company in the hot sauce space.\n",
            "*   **Key Message:** It's \"about what's inside,\" not just the cool bottle.\n",
            "\n",
            "**Mashed Potatoes:**\n",
            "*   **Goal:** Perfect, creamy, lump-free mashed potatoes.\n",
            "*   **Potatoes:** Yukon Gold, peeled.\n",
            "*   **Cooking Method:** Boiled in cold water until very tender.\n",
            "*   **Mashing Tool:** Potato ricer (recommended for smooth, lump-free results).\n",
            "*   **Key Step 1:** After draining boiled potatoes, return them to the hot pot briefly to evaporate any leftover water.\n",
            "*   **Liquid & Fat:** 1/4 cup butter, 3/4 cup whipping cream.\n",
            "*   **Seasoning:** Salt, pepper, garlic powder (1/3 to 1/2 tsp).\n",
            "*   **Process:**\n",
            "    1.  Melt butter, cream, and seasonings together.\n",
            "    2.  Rice the cooked potatoes directly into a bowl.\n",
            "    3.  Add about half of the warm cream/butter mixture to the riced potatoes and mix until smooth. Add more as needed.\n",
            "    4.  Taste and adjust seasoning.\n",
            "    5.  Keep warm (e.g., with a lid).\n",
            "*   **Optional Additions:** Chipotle, caramelized onions, blue cheese.\n",
            "\n",
            "**Steak Bites:**\n",
            "*   **Steak Type:** Fillet recommended (can use almost any cut, but fillet was on sale and tender).\n",
            "*   **Preparation:** Cut steak into small, one-bite pieces (don't make them too big).\n",
            "*   **Initial Seasoning:** Avocado oil (for high smoke point in a super-hot pan), salt, pepper.\n",
            "*   **Butter Sauce Ingredients:**\n",
            "    *   1/4 cup butter\n",
            "    *   3 cloves garlic (minced)\n",
            "    *   A little rosemary (chopped)\n",
            "    *   A little thyme (leaves removed, chopped)\n",
            "    *   Pinch of salt and pepper\n",
            "    *   1 tsp soy paste (for umami boost – preferable to soy sauce for mixing)\n",
            "*   **Cooking Process:**\n",
            "    1.  Heat a cast iron pan *very* hot (water droplet test).\n",
            "    2.  Add a little oil to the hot pan.\n",
            "    3.  Sear steak in batches (to ensure good color/sear – do not overcrowd the pan).\n",
            "    4.  Sear for 25-30 seconds per side until well-colored.\n",
            "    5.  Remove first batch, reheat pan, then sear second batch.\n",
            "    6.  Return all cooked steak to the hot pan.\n",
            "    7.  Add the prepared butter sauce mixture to the pan.\n",
            "    8.  Toss vigorously to coat all steak bites in the glistening butter sauce.\n",
            "*   **Why Bites?** The butter sauce will \"envelop all these little tiny pieces,\" making them incredible.\n",
            "\n",
            "**Assembly & Serving:**\n",
            "*   Create a \"landing spot\" or well in the mashed potatoes.\n",
            "*   Spoon steak bites (still glistening from the butter) onto the mashed potatoes.\n",
            "*   Garnish with a tiny bit of black pepper.\n",
            "*   **Eating Tip:** Dig underneath the steak to get mashed potatoes infused with the buttery juices from the steak – \"that buttery goodness\" is what you want.\n",
            "\n",
            "**Conclusion:**\n",
            "*   A highly recommended dish; delicious and relatively quick.\n",
            "*   Encourages buying fillet on sale and freezing it properly.\n"
          ]
        }
      ]
    },
    {
      "cell_type": "markdown",
      "source": [
        "Search on stored notes"
      ],
      "metadata": {
        "id": "U3UVACrsB3Gq"
      }
    },
    {
      "cell_type": "code",
      "source": [
        "prompt = \"Answer the following QUESTION using DOCUMENT as context.\"\n",
        "prompt += f\"QUESTION: {query_text}\"\n",
        "prompt += f\"DOCUMENT: {results['documents'][0][0]}\"\n",
        "\n",
        "response = genai_model.generate_content(prompt, stream=False)\n",
        "print(response.text)"
      ],
      "metadata": {
        "colab": {
          "base_uri": "https://localhost:8080/",
          "height": 34
        },
        "id": "GTyaTROhymLb",
        "outputId": "e00d98e1-e58a-458e-e065-2fbea47a8c89"
      },
      "execution_count": null,
      "outputs": [
        {
          "output_type": "stream",
          "name": "stdout",
          "text": [
            "You need 1 kilogram of Beef Ribs for the recipe.\n"
          ]
        }
      ]
    }
  ]
}